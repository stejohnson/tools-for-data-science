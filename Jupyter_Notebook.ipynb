{
 "cells": [
  {
   "cell_type": "markdown",
   "metadata": {},
   "source": [
    "<center>\n",
    "    <img src=\"https://cf-courses-data.s3.us.cloud-object-storage.appdomain.cloud/IBMDeveloperSkillsNetwork-DS0105EN-SkillsNetwork/labs/Module2/images/SN_web_lightmode.png\" width=\"300\" alt=\"cognitiveclass.ai logo\">\n",
    "</center>\n"
   ]
  },
  {
   "cell_type": "markdown",
   "metadata": {},
   "source": [
    "#### Add your code below following the instructions given in the course\n"
   ]
  },
  {
   "cell_type": "markdown",
   "metadata": {},
   "source": [
    "# Tools for Data Science Assignment"
   ]
  },
  {
   "cell_type": "markdown",
   "metadata": {},
   "source": [
    "This notebook demonstrates the tools and skills explained in the [Tools for Data Science](https://www.coursera.org/learn/open-source-tools-for-data-science/home/welcome) course."
   ]
  },
  {
   "cell_type": "markdown",
   "metadata": {},
   "source": [
    "## Data Science Languages\n",
    "\n",
    "This is a list of data science languages.\n",
    "\n",
    "### Main Languages\n",
    "\n",
    "* Python\n",
    "* R\n",
    "* SQL\n",
    "\n",
    "### Other Languages\n",
    "\n",
    "* Scala\n",
    "* Java\n",
    "* C++\n",
    "* Go\n",
    "* PHP\n",
    "* JavaScript\n",
    "* Visual Basic\n",
    "  "
   ]
  },
  {
   "cell_type": "markdown",
   "metadata": {},
   "source": [
    "## Data Science Libraries\n",
    "\n",
    "Libraries used in data science are described below.\n",
    "\n",
    "### Python\n",
    "\n",
    "* Scientific computing libraries\n",
    "  1. Pandas\n",
    "  2. NumPy\n",
    "\n",
    "* Visualization libraries\n",
    "  1. Matplotlib\n",
    "  2. Seaborn\n",
    "\n",
    "* Deep learning libraries\n",
    "  1. Scikit-learn\n",
    "  2. Keras\n",
    "  3. TensorFlow\n",
    "\n",
    "### Other Languages\n",
    "\n",
    "#### Scala\n",
    "1. Spark\n",
    "2. Vegas\n",
    "\n",
    "#### R\n",
    "1. ggplot\n"
   ]
  },
  {
   "cell_type": "markdown",
   "metadata": {},
   "source": [
    "## Data Science Tools\n",
    "\n",
    "Here's a Markdown table of some commonly used tools in data science, along with brief descriptions:"
   ]
  },
  {
   "cell_type": "markdown",
   "metadata": {},
   "source": [
    "| Tool | Description |\n",
    "|---|---|\n",
    "| **Jupyter Notebook** | An interactive computing environment that combines code, text, equations, visualizations, and rich media. It's widely used for data exploration, prototyping, and sharing data science workflows. |\n",
    "| **Tableau** | A powerful data visualization tool that enables the creation of interactive and visually appealing dashboards and charts. |\n",
    "| **PowerBI** | A business intelligence tool developed by Microsoft. It allows for data visualization, reporting, and sharing insights across organizations. |\n",
    "| **Alteryx Designer** | A visual data preparation and analytics tool that enables users to build complex data workflows without writing code. |\n"
   ]
  },
  {
   "cell_type": "markdown",
   "metadata": {},
   "source": [
    "## Arithmetic Expressions\n",
    "\n",
    "The following cells demonstrate markdown cells containing arithemtic expressions."
   ]
  },
  {
   "cell_type": "markdown",
   "metadata": {},
   "source": [
    "The value of $\\pi$ is approximately 3.14.\n",
    "\n",
    "Euler's Identity: $$e^{i\\pi}+1=0$$\n",
    "\n",
    "The Schrödinger's Equation: $$i\\hbar\\frac{\\partial \\psi}{\\partial t} = H\\psi$$\n",
    "\n",
    "The Pythagorean Theorem: $$a^2 + b^2 = c^2$$"
   ]
  },
  {
   "cell_type": "markdown",
   "metadata": {},
   "source": [
    "## Code Cells"
   ]
  },
  {
   "cell_type": "markdown",
   "metadata": {},
   "source": [
    "### Addition"
   ]
  },
  {
   "cell_type": "code",
   "execution_count": 3,
   "metadata": {},
   "outputs": [
    {
     "data": {
      "text/plain": [
       "490"
      ]
     },
     "execution_count": 3,
     "metadata": {},
     "output_type": "execute_result"
    }
   ],
   "source": [
    "def add(*number: int):\n",
    "    return sum(number)\n",
    "\n",
    "add(240, 129, 121)"
   ]
  },
  {
   "cell_type": "markdown",
   "metadata": {},
   "source": [
    "### Multiply"
   ]
  },
  {
   "cell_type": "code",
   "execution_count": 7,
   "metadata": {},
   "outputs": [
    {
     "data": {
      "text/plain": [
       "60"
      ]
     },
     "execution_count": 7,
     "metadata": {},
     "output_type": "execute_result"
    }
   ],
   "source": [
    "def product(*number):\n",
    "    result = 1\n",
    "    for n in number:\n",
    "        result *= n\n",
    "    return result\n",
    "\n",
    "product(4, 5, 3)"
   ]
  },
  {
   "cell_type": "markdown",
   "metadata": {},
   "source": [
    "### Hours to minutes"
   ]
  },
  {
   "cell_type": "code",
   "execution_count": 8,
   "metadata": {},
   "outputs": [
    {
     "name": "stdout",
     "output_type": "stream",
     "text": [
      "3.5 hours is equal to 210.0 minutes\n"
     ]
    }
   ],
   "source": [
    "def hours_to_minutes(hours):\n",
    "  return hours * 60\n",
    "\n",
    "hours = 3.5\n",
    "minutes = hours_to_minutes(hours)\n",
    "print(f\"{hours} hours is equal to {minutes} minutes\")"
   ]
  },
  {
   "cell_type": "markdown",
   "metadata": {},
   "source": [
    "## Objectives\n",
    "\n",
    "* Create a Jupyter Notebook with markdown and code cells\n",
    "* List examples of languages, libraries and tools used in Data Science\n",
    "* Share your Jupyter Notebook publicly on GitHub\n",
    "* Evaluate notebooks submitted by your peers using the provided rubric\n",
    "* Demonstrate proficiency in Data Science toolkit knowledge"
   ]
  },
  {
   "cell_type": "code",
   "execution_count": null,
   "metadata": {},
   "outputs": [],
   "source": []
  },
  {
   "cell_type": "code",
   "execution_count": null,
   "metadata": {},
   "outputs": [],
   "source": []
  }
 ],
 "metadata": {
  "kernelspec": {
   "display_name": "Python 3 (ipykernel)",
   "language": "python",
   "name": "python3"
  },
  "language_info": {
   "codemirror_mode": {
    "name": "ipython",
    "version": 3
   },
   "file_extension": ".py",
   "mimetype": "text/x-python",
   "name": "python",
   "nbconvert_exporter": "python",
   "pygments_lexer": "ipython3",
   "version": "3.11.9"
  }
 },
 "nbformat": 4,
 "nbformat_minor": 4
}
